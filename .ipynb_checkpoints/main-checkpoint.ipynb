{
 "cells": [
  {
   "cell_type": "markdown",
   "id": "62bcd919-384a-4502-96fb-5fc628d30ca8",
   "metadata": {},
   "source": [
    "# Análise de sentimenos usando NLP"
   ]
  },
  {
   "cell_type": "markdown",
   "id": "2d61af40-a668-45fe-9d8b-2ad254f67049",
   "metadata": {},
   "source": [
    "- O seguinte projeto tem como objetivo criar um modelo NLP classificador para analisar o humor dos usuários baseados em seus dados (tweets, postagens textuais, comentários);\n",
    "- A plataforma escolhida para essa atividade foi o X (Twitter), por meio de sua API pública;"
   ]
  },
  {
   "cell_type": "markdown",
   "id": "89fd1d56-45f9-4436-be35-287f8077d072",
   "metadata": {},
   "source": [
    "# Equipe:\n",
    "- Pedro Yutaro Mont Morency Nakamura;\n",
    "- Lucas Carvalho dos Santos;\n",
    "- Caio Jorge Da Cunha Queiroz;\n",
    "- Lucas Maciel ;omes;"
   ]
  },
  {
   "cell_type": "markdown",
   "id": "11e9cd97-9255-4008-9210-8378c322bcc7",
   "metadata": {},
   "source": [
    "# 1 - Importação de bibliotecas\n",
    "Inicialmente iremos importar as seguintes bibliotecas:\n",
    "- *Tweetpy*: Biblioteca python da API do Twitter;\n",
    "- *Pandas + Numnpy*: Manipulação de dados;\n",
    "- *Scikit-learn*: Pré-processamento e criação de métricas do modelo;\n",
    "- *NLTK*: Biblioteca para pre-processamento de texto humano (toolkit de linguagem natural);\n",
    "- *matplotlib*: Criação de gráficos para a vizualização dos resultados;"
   ]
  },
  {
   "cell_type": "code",
   "execution_count": 2,
   "id": "8ebb37e4-7d98-46f5-97e4-521744485a0a",
   "metadata": {},
   "outputs": [],
   "source": [
    "# Analise e tratamento de dados\n",
    "import pandas as pd\n",
    "import numpy as np\n",
    "import re\n",
    "import matplotlib.pyplot as plt\n",
    "# Processamento de linguagem natural\n",
    "import nltk\n",
    "from nltk.tokenize import word_tokenize\n",
    "from nltk.corpus import stopwords\n",
    "# Bibliotecas para o classificador\n",
    "from sklearn.feature_extraction.text import TfidfVectorizer\n",
    "from sklearn.model_selection import train_test_split\n",
    "from sklearn.linear_model import LogisticRegression\n",
    "from sklearn.metrics import classification_report"
   ]
  },
  {
   "cell_type": "code",
   "execution_count": 6,
   "id": "f80fa666-88e5-47b6-8866-bb0dcc6f8984",
   "metadata": {},
   "outputs": [
    {
     "data": {
      "text/html": [
       "<div>\n",
       "<style scoped>\n",
       "    .dataframe tbody tr th:only-of-type {\n",
       "        vertical-align: middle;\n",
       "    }\n",
       "\n",
       "    .dataframe tbody tr th {\n",
       "        vertical-align: top;\n",
       "    }\n",
       "\n",
       "    .dataframe thead th {\n",
       "        text-align: right;\n",
       "    }\n",
       "</style>\n",
       "<table border=\"1\" class=\"dataframe\">\n",
       "  <thead>\n",
       "    <tr style=\"text-align: right;\">\n",
       "      <th></th>\n",
       "      <th>0</th>\n",
       "      <th>1</th>\n",
       "    </tr>\n",
       "  </thead>\n",
       "  <tbody>\n",
       "    <tr>\n",
       "      <th>count</th>\n",
       "      <td>1.600000e+06</td>\n",
       "      <td>1.600000e+06</td>\n",
       "    </tr>\n",
       "    <tr>\n",
       "      <th>mean</th>\n",
       "      <td>2.000000e+00</td>\n",
       "      <td>1.998818e+09</td>\n",
       "    </tr>\n",
       "    <tr>\n",
       "      <th>std</th>\n",
       "      <td>2.000001e+00</td>\n",
       "      <td>1.935761e+08</td>\n",
       "    </tr>\n",
       "    <tr>\n",
       "      <th>min</th>\n",
       "      <td>0.000000e+00</td>\n",
       "      <td>1.467810e+09</td>\n",
       "    </tr>\n",
       "    <tr>\n",
       "      <th>25%</th>\n",
       "      <td>0.000000e+00</td>\n",
       "      <td>1.956916e+09</td>\n",
       "    </tr>\n",
       "    <tr>\n",
       "      <th>50%</th>\n",
       "      <td>2.000000e+00</td>\n",
       "      <td>2.002102e+09</td>\n",
       "    </tr>\n",
       "    <tr>\n",
       "      <th>75%</th>\n",
       "      <td>4.000000e+00</td>\n",
       "      <td>2.177059e+09</td>\n",
       "    </tr>\n",
       "    <tr>\n",
       "      <th>max</th>\n",
       "      <td>4.000000e+00</td>\n",
       "      <td>2.329206e+09</td>\n",
       "    </tr>\n",
       "  </tbody>\n",
       "</table>\n",
       "</div>"
      ],
      "text/plain": [
       "                  0             1\n",
       "count  1.600000e+06  1.600000e+06\n",
       "mean   2.000000e+00  1.998818e+09\n",
       "std    2.000001e+00  1.935761e+08\n",
       "min    0.000000e+00  1.467810e+09\n",
       "25%    0.000000e+00  1.956916e+09\n",
       "50%    2.000000e+00  2.002102e+09\n",
       "75%    4.000000e+00  2.177059e+09\n",
       "max    4.000000e+00  2.329206e+09"
      ]
     },
     "execution_count": 6,
     "metadata": {},
     "output_type": "execute_result"
    }
   ],
   "source": [
    "# Carregando o dataset do keagle\n",
    "df = pd.read_csv(\"tweets_data.csv\", encoding=\"latin-1\", header=None)\n",
    "df.head()"
   ]
  }
 ],
 "metadata": {
  "kernelspec": {
   "display_name": "Python 3 (ipykernel)",
   "language": "python",
   "name": "python3"
  },
  "language_info": {
   "codemirror_mode": {
    "name": "ipython",
    "version": 3
   },
   "file_extension": ".py",
   "mimetype": "text/x-python",
   "name": "python",
   "nbconvert_exporter": "python",
   "pygments_lexer": "ipython3",
   "version": "3.10.16"
  }
 },
 "nbformat": 4,
 "nbformat_minor": 5
}
