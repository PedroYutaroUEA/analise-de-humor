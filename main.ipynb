{
 "cells": [
  {
   "cell_type": "markdown",
   "id": "62bcd919-384a-4502-96fb-5fc628d30ca8",
   "metadata": {},
   "source": [
    "# Análise de sentimenos usando NLP"
   ]
  },
  {
   "cell_type": "code",
   "execution_count": null,
   "id": "a26b033d-55c1-4538-a48a-c1292e7bb058",
   "metadata": {},
   "outputs": [],
   "source": []
  }
 ],
 "metadata": {
  "kernelspec": {
   "display_name": "Python 3 (ipykernel)",
   "language": "python",
   "name": "python3"
  },
  "language_info": {
   "codemirror_mode": {
    "name": "ipython",
    "version": 3
   },
   "file_extension": ".py",
   "mimetype": "text/x-python",
   "name": "python",
   "nbconvert_exporter": "python",
   "pygments_lexer": "ipython3",
   "version": "3.10.16"
  }
 },
 "nbformat": 4,
 "nbformat_minor": 5
}
