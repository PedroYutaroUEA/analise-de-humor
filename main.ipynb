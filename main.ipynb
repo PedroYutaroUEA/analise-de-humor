{
 "cells": [
  {
   "cell_type": "markdown",
   "id": "62bcd919-384a-4502-96fb-5fc628d30ca8",
   "metadata": {},
   "source": [
    "# Análise de sentimenos usando NLP"
   ]
  },
  {
   "cell_type": "markdown",
   "id": "2d61af40-a668-45fe-9d8b-2ad254f67049",
   "metadata": {},
   "source": [
    "- O seguinte projeto tem como objetivo criar um modelo NLP classificador para analisar o humor dos usuários baseados em seus dados (tweets);\n",
    "- A plataforma escolhida para essa atividade foi o X (Twitter), por meio do dataset público sentiment140 disponível no Kaggle;"
   ]
  },
  {
   "cell_type": "markdown",
   "id": "89fd1d56-45f9-4436-be35-287f8077d072",
   "metadata": {},
   "source": [
    "# Equipe:\n",
    "- Pedro Yutaro Mont Morency Nakamura;\n",
    "- Lucas Carvalho dos Santos;\n",
    "- Caio Jorge Da Cunha Queiroz;\n",
    "- Lucas Maciel Gomes;"
   ]
  },
  {
   "cell_type": "markdown",
   "id": "11e9cd97-9255-4008-9210-8378c322bcc7",
   "metadata": {},
   "source": [
    "# 1 - Importação de bibliotecas\n",
    "Inicialmente iremos importar as seguintes bibliotecas:\n",
    "- *Pandas + Numnpy*: Manipulação de dados;\n",
    "- *Scikit-learn*: Pré-processamento e criação de métricas do modelo;\n",
    "- *NLTK*: Biblioteca para pre-processamento de texto humano (toolkit de linguagem natural);\n",
    "- *matplotlib*: Criação de gráficos para a vizualização dos resultados;"
   ]
  },
  {
   "cell_type": "code",
   "execution_count": 84,
   "id": "8ebb37e4-7d98-46f5-97e4-521744485a0a",
   "metadata": {},
   "outputs": [],
   "source": [
    "# Analise e tratamento de dados\n",
    "import pandas as pd\n",
    "import numpy as np\n",
    "import re\n",
    "import matplotlib.pyplot as plt\n",
    "import seaborn as sns\n",
    "# Processamento de linguagem natural\n",
    "import nltk\n",
    "from nltk.tokenize import word_tokenize\n",
    "from nltk.corpus import stopwords\n",
    "# Bibliotecas para o classificador\n",
    "from sklearn.feature_extraction.text import TfidfVectorizer, CountVectorizer\n",
    "from sklearn.model_selection import train_test_split\n",
    "from sklearn.linear_model import LogisticRegression\n",
    "from sklearn.metrics import classification_report, confusion_matrix, accuracy_score, ConfusionMatrixDisplay"
   ]
  },
  {
   "cell_type": "markdown",
   "id": "2d82d6db-855f-4e86-b83d-0b3d1c653352",
   "metadata": {},
   "source": [
    "# 2 - Tratando o dataset\n",
    "\n",
    "O Conteudo do dataset contem os seguintes campos:\n",
    "\n",
    "1. target: polaridade do tweet (0 = negative, 2 = neutral, 4 = positive)\n",
    "2. ids: o ID do tweet (ex: 2089)\n",
    "3. date: A data do tweet (ex: Sat May 16 23:58:44 UTC 2009)\n",
    "4. flag: A query (ex: lyx). Se não há nenhuma query, por padrão o valor é \"NO_QUERY\".\n",
    "5. user: O usuário que twittou (ex: robotickilldozr)\n",
    "6. text: o conteúdo do tweet (ex: Lyx is cool)\n",
    "\n",
    "Porem, por padrão as colunas do dataset vem sem esses identificadores, abaixo iremos arrumar isso:"
   ]
  },
  {
   "cell_type": "code",
   "execution_count": 57,
   "id": "f80fa666-88e5-47b6-8866-bb0dcc6f8984",
   "metadata": {},
   "outputs": [
    {
     "data": {
      "text/html": [
       "<div>\n",
       "<style scoped>\n",
       "    .dataframe tbody tr th:only-of-type {\n",
       "        vertical-align: middle;\n",
       "    }\n",
       "\n",
       "    .dataframe tbody tr th {\n",
       "        vertical-align: top;\n",
       "    }\n",
       "\n",
       "    .dataframe thead th {\n",
       "        text-align: right;\n",
       "    }\n",
       "</style>\n",
       "<table border=\"1\" class=\"dataframe\">\n",
       "  <thead>\n",
       "    <tr style=\"text-align: right;\">\n",
       "      <th></th>\n",
       "      <th>target</th>\n",
       "      <th>id</th>\n",
       "      <th>date</th>\n",
       "      <th>flag</th>\n",
       "      <th>user</th>\n",
       "      <th>text</th>\n",
       "    </tr>\n",
       "  </thead>\n",
       "  <tbody>\n",
       "    <tr>\n",
       "      <th>0</th>\n",
       "      <td>0</td>\n",
       "      <td>1467810369</td>\n",
       "      <td>Mon Apr 06 22:19:45 PDT 2009</td>\n",
       "      <td>NO_QUERY</td>\n",
       "      <td>_TheSpecialOne_</td>\n",
       "      <td>@switchfoot http://twitpic.com/2y1zl - Awww, t...</td>\n",
       "    </tr>\n",
       "    <tr>\n",
       "      <th>1</th>\n",
       "      <td>0</td>\n",
       "      <td>1467810672</td>\n",
       "      <td>Mon Apr 06 22:19:49 PDT 2009</td>\n",
       "      <td>NO_QUERY</td>\n",
       "      <td>scotthamilton</td>\n",
       "      <td>is upset that he can't update his Facebook by ...</td>\n",
       "    </tr>\n",
       "    <tr>\n",
       "      <th>2</th>\n",
       "      <td>0</td>\n",
       "      <td>1467810917</td>\n",
       "      <td>Mon Apr 06 22:19:53 PDT 2009</td>\n",
       "      <td>NO_QUERY</td>\n",
       "      <td>mattycus</td>\n",
       "      <td>@Kenichan I dived many times for the ball. Man...</td>\n",
       "    </tr>\n",
       "    <tr>\n",
       "      <th>3</th>\n",
       "      <td>0</td>\n",
       "      <td>1467811184</td>\n",
       "      <td>Mon Apr 06 22:19:57 PDT 2009</td>\n",
       "      <td>NO_QUERY</td>\n",
       "      <td>ElleCTF</td>\n",
       "      <td>my whole body feels itchy and like its on fire</td>\n",
       "    </tr>\n",
       "    <tr>\n",
       "      <th>4</th>\n",
       "      <td>0</td>\n",
       "      <td>1467811193</td>\n",
       "      <td>Mon Apr 06 22:19:57 PDT 2009</td>\n",
       "      <td>NO_QUERY</td>\n",
       "      <td>Karoli</td>\n",
       "      <td>@nationwideclass no, it's not behaving at all....</td>\n",
       "    </tr>\n",
       "  </tbody>\n",
       "</table>\n",
       "</div>"
      ],
      "text/plain": [
       "   target          id                          date      flag  \\\n",
       "0       0  1467810369  Mon Apr 06 22:19:45 PDT 2009  NO_QUERY   \n",
       "1       0  1467810672  Mon Apr 06 22:19:49 PDT 2009  NO_QUERY   \n",
       "2       0  1467810917  Mon Apr 06 22:19:53 PDT 2009  NO_QUERY   \n",
       "3       0  1467811184  Mon Apr 06 22:19:57 PDT 2009  NO_QUERY   \n",
       "4       0  1467811193  Mon Apr 06 22:19:57 PDT 2009  NO_QUERY   \n",
       "\n",
       "              user                                               text  \n",
       "0  _TheSpecialOne_  @switchfoot http://twitpic.com/2y1zl - Awww, t...  \n",
       "1    scotthamilton  is upset that he can't update his Facebook by ...  \n",
       "2         mattycus  @Kenichan I dived many times for the ball. Man...  \n",
       "3          ElleCTF    my whole body feels itchy and like its on fire   \n",
       "4           Karoli  @nationwideclass no, it's not behaving at all....  "
      ]
     },
     "execution_count": 57,
     "metadata": {},
     "output_type": "execute_result"
    }
   ],
   "source": [
    "# Carregando o dataset do keagle\n",
    "df = pd.read_csv(\"tweets_data.csv\", encoding=\"latin-1\", header=None)\n",
    "# Renomeando colunas conforme a documentação\n",
    "df.columns = [\"target\", \"id\", \"date\", \"flag\", \"user\", \"text\"]\n",
    "df.head()"
   ]
  },
  {
   "cell_type": "markdown",
   "id": "bdf6c363-7e7d-421e-b540-6935b96e9f13",
   "metadata": {},
   "source": [
    "Para que não haja duplicidade de conteúdo, seria interessante verificarmos se há tweets duplicados e remove-los do nosso dataset:"
   ]
  },
  {
   "cell_type": "code",
   "execution_count": 58,
   "id": "2846ca0f-579d-4dd1-9d18-22ddc371a994",
   "metadata": {},
   "outputs": [
    {
     "name": "stdout",
     "output_type": "stream",
     "text": [
      "Percentual de tweets duplicados: 0.105%\n"
     ]
    }
   ],
   "source": [
    "def show_amount_dup(data):\n",
    "    dup = round(sum(data.duplicated(\"id\")/len(data)*100), 3)\n",
    "    print(f\"Percentual de tweets duplicados: {dup}%\")\n",
    "\n",
    "show_amount_dup(df)"
   ]
  },
  {
   "cell_type": "code",
   "execution_count": 60,
   "id": "ac531bca-1e94-456d-919c-cadecad04a1e",
   "metadata": {},
   "outputs": [
    {
     "name": "stdout",
     "output_type": "stream",
     "text": [
      "Percentual de tweets duplicados: 0.0%\n"
     ]
    }
   ],
   "source": [
    "# removendo tweets duplicados\n",
    "df.drop_duplicates(\"id\", inplace=True)\n",
    "show_amount_dup(df)"
   ]
  },
  {
   "cell_type": "markdown",
   "id": "19b90371-1e91-4cb2-a5ec-77e838d449b7",
   "metadata": {},
   "source": [
    "Com a duplicidade de informações já excluidas, agora podemos otimizar a nossa base de dados para usarmos apenas as informações uteis para o treinamento"
   ]
  },
  {
   "cell_type": "code",
   "execution_count": 86,
   "id": "983d720e-5979-4ee2-84cd-a7e58d235015",
   "metadata": {},
   "outputs": [
    {
     "data": {
      "text/html": [
       "<div>\n",
       "<style scoped>\n",
       "    .dataframe tbody tr th:only-of-type {\n",
       "        vertical-align: middle;\n",
       "    }\n",
       "\n",
       "    .dataframe tbody tr th {\n",
       "        vertical-align: top;\n",
       "    }\n",
       "\n",
       "    .dataframe thead th {\n",
       "        text-align: right;\n",
       "    }\n",
       "</style>\n",
       "<table border=\"1\" class=\"dataframe\">\n",
       "  <thead>\n",
       "    <tr style=\"text-align: right;\">\n",
       "      <th></th>\n",
       "      <th>target</th>\n",
       "      <th>text</th>\n",
       "      <th>sentiment</th>\n",
       "    </tr>\n",
       "  </thead>\n",
       "  <tbody>\n",
       "    <tr>\n",
       "      <th>0</th>\n",
       "      <td>0</td>\n",
       "      <td>@switchfoot http://twitpic.com/2y1zl - Awww, t...</td>\n",
       "      <td>negativo</td>\n",
       "    </tr>\n",
       "    <tr>\n",
       "      <th>1</th>\n",
       "      <td>0</td>\n",
       "      <td>is upset that he can't update his Facebook by ...</td>\n",
       "      <td>negativo</td>\n",
       "    </tr>\n",
       "    <tr>\n",
       "      <th>2</th>\n",
       "      <td>0</td>\n",
       "      <td>@Kenichan I dived many times for the ball. Man...</td>\n",
       "      <td>negativo</td>\n",
       "    </tr>\n",
       "    <tr>\n",
       "      <th>3</th>\n",
       "      <td>0</td>\n",
       "      <td>my whole body feels itchy and like its on fire</td>\n",
       "      <td>negativo</td>\n",
       "    </tr>\n",
       "    <tr>\n",
       "      <th>4</th>\n",
       "      <td>0</td>\n",
       "      <td>@nationwideclass no, it's not behaving at all....</td>\n",
       "      <td>negativo</td>\n",
       "    </tr>\n",
       "  </tbody>\n",
       "</table>\n",
       "</div>"
      ],
      "text/plain": [
       "   target                                               text sentiment\n",
       "0       0  @switchfoot http://twitpic.com/2y1zl - Awww, t...  negativo\n",
       "1       0  is upset that he can't update his Facebook by ...  negativo\n",
       "2       0  @Kenichan I dived many times for the ball. Man...  negativo\n",
       "3       0    my whole body feels itchy and like its on fire   negativo\n",
       "4       0  @nationwideclass no, it's not behaving at all....  negativo"
      ]
     },
     "execution_count": 86,
     "metadata": {},
     "output_type": "execute_result"
    }
   ],
   "source": [
    "# Iremos usar apenas essas colunas em nosso treino\n",
    "df = df[[\"target\", \"text\"]]\n",
    "# Ajustar as categorias\n",
    "df[\"sentiment\"] = df[\"target\"].map({0: \"negativo\", 2: \"neutro\", 4: \"positivo\"})\n",
    "df.head()"
   ]
  },
  {
   "cell_type": "markdown",
   "id": "07a40c0b-ffe9-47a0-b3d4-ef152e5d3581",
   "metadata": {},
   "source": [
    "# 3 - Pré-processamento de dados\n",
    "\n",
    "Como é possível observar, agora o nosso dataframe possui apenas a polaridade, o texto e o sentimento correspondente\n",
    "\n",
    "Porém é possível que parte desse texto contenha \"ruídos\" como URLs, menções, emojis ou símbolos especiais. Para isso, iremos fazer uma breve limpeza usando nltk para lidar com stopwords:"
   ]
  },
  {
   "cell_type": "code",
   "execution_count": 87,
   "id": "fc1bf013-5b6d-4f1c-92de-a466883ff9e5",
   "metadata": {},
   "outputs": [
    {
     "name": "stderr",
     "output_type": "stream",
     "text": [
      "[nltk_data] Downloading package stopwords to\n",
      "[nltk_data]     C:\\Users\\pedro\\AppData\\Roaming\\nltk_data...\n",
      "[nltk_data]   Package stopwords is already up-to-date!\n",
      "[nltk_data] Downloading package punkt to\n",
      "[nltk_data]     C:\\Users\\pedro\\AppData\\Roaming\\nltk_data...\n",
      "[nltk_data]   Package punkt is already up-to-date!\n",
      "[nltk_data] Downloading package punkt_tab to\n",
      "[nltk_data]     C:\\Users\\pedro\\AppData\\Roaming\\nltk_data...\n",
      "[nltk_data]   Package punkt_tab is already up-to-date!\n"
     ]
    },
    {
     "data": {
      "text/plain": [
       "True"
      ]
     },
     "execution_count": 87,
     "metadata": {},
     "output_type": "execute_result"
    }
   ],
   "source": [
    "nltk.download(\"stopwords\")\n",
    "nltk.download(\"punkt\")\n",
    "nltk.download('punkt_tab')"
   ]
  },
  {
   "cell_type": "markdown",
   "id": "679ca11d-ff65-48ab-bd8a-f7c45cd37ad3",
   "metadata": {},
   "source": [
    "Com o dataset ja otimizado e as dependencias baixadas, podemos realizar o pre-processamento no dataset"
   ]
  },
  {
   "cell_type": "code",
   "execution_count": 88,
   "id": "e7fafb2e-f73c-4ef1-8d76-e771beb3e40b",
   "metadata": {},
   "outputs": [
    {
     "ename": "SyntaxError",
     "evalue": "unmatched ')' (2939092108.py, line 11)",
     "output_type": "error",
     "traceback": [
      "\u001b[1;36m  Cell \u001b[1;32mIn[88], line 11\u001b[1;36m\u001b[0m\n\u001b[1;33m    txt = re.sub(reSpecChars_and_Nums, \"\", txt))\u001b[0m\n\u001b[1;37m                                               ^\u001b[0m\n\u001b[1;31mSyntaxError\u001b[0m\u001b[1;31m:\u001b[0m unmatched ')'\n"
     ]
    }
   ],
   "source": [
    "stop_words = set(stopwords.words(\"english\"))\n",
    "\n",
    "reURL = r\"http\\S+|www\\S+|https\\S+\"\n",
    "reMention = r\"@\\w+\"\n",
    "reSpecChars_and_Nums = r\"[^A-Za-z\\s]\"\n",
    "\n",
    "def preprocess_text(txt):\n",
    "    # remove urls\n",
    "    txt = re.sub(reURL, \"\", txt)\n",
    "    txt = re.sub(reMention, \"\", txt)\n",
    "    txt = re.sub(reSpecChars_and_Nums, \"\", txt))\n",
    "    # tokenizar e remover stop words\n",
    "    tokens = word_tokenize(txt.lower())\n",
    "    tokens = [word for word in tokens if word not in stop_words]\n",
    "    return \" \".join(tokens)"
   ]
  },
  {
   "cell_type": "code",
   "execution_count": 89,
   "id": "d0677579-db68-41ba-9173-15a7fbc58c16",
   "metadata": {},
   "outputs": [],
   "source": [
    "df[\"text\"] = df[\"text\"].apply(preprocess_text)"
   ]
  },
  {
   "cell_type": "markdown",
   "id": "d0afd4a8-776a-4712-b30c-d1b6fb4afa6e",
   "metadata": {},
   "source": [
    "# 4 - Divisão dos dados\n",
    "Com os dados ja tratados, iremos dividi-los em dados de treino e teste:"
   ]
  },
  {
   "cell_type": "code",
   "execution_count": 90,
   "id": "7f79bb71-683d-4968-be7d-30bcbb22e5a2",
   "metadata": {},
   "outputs": [
    {
     "name": "stdout",
     "output_type": "stream",
     "text": [
      "Train: 1278652\n",
      "Test: 319663\n"
     ]
    }
   ],
   "source": [
    "X = df[\"text\"]\n",
    "y = df[\"sentiment\"]\n",
    "\n",
    "X_train, X_test, y_train, y_test = train_test_split(X, y, test_size=0.2, random_state=42)\n",
    "print(f\"Train: {len(X_train)}\\nTest: {len(X_test)}\")"
   ]
  },
  {
   "cell_type": "markdown",
   "id": "3120f4c1-aa32-4dd0-9fe3-32b9c1a456fa",
   "metadata": {},
   "source": [
    "# 5. Vetorizando o texo usando TF-IDF\n",
    "\n",
    "_\"Ah mas porque usar logo o TF-IDF?\"_\n",
    "\n",
    "Sim, poderiamos ter usado BoW para essa etapa, porem TF-IDF é bom para lidar com relevância das palavras, uma vez que a relevância é ajustada ao penalizar palavras que aparecem com frequência (stop words), dando mais peso para palavras específicas (diferente do bow que apenas considera frequência bruta de uma palavra no texto, dando pesos desnecessários para palavras que são irrelevantes para o SENTIMENTO)."
   ]
  },
  {
   "cell_type": "code",
   "execution_count": 91,
   "id": "9737f970-ab8d-4097-8d3f-63a8b0ee4f44",
   "metadata": {},
   "outputs": [],
   "source": [
    "tfidf_vectorizer = TfidfVectorizer(max_features=5000) # limitar a 5k features\n",
    "# ajustar ao conjunto de treino\n",
    "X_train_tfidf = tfidf_vectorizer.fit_transform(X_train)\n",
    "# transformar o conjunto de teste\n",
    "X_test_tfidf = tfidf_vectorizer.transform(X_test)"
   ]
  },
  {
   "cell_type": "markdown",
   "id": "a5d1d7c5-b5b1-4350-b1b7-ff665d5ea164",
   "metadata": {},
   "source": [
    "# 5.1 Vetorizando o texto usando BoW"
   ]
  },
  {
   "cell_type": "code",
   "execution_count": 92,
   "id": "5209d7b0-5843-44e3-a4ea-94900ffcd6a0",
   "metadata": {},
   "outputs": [],
   "source": [
    "bow_vectorizer = CountVectorizer(max_features=5000) # limitar a 5k features\n",
    "# ajustar ao conjunto de treino\n",
    "X_train_bow = bow_vectorizer.fit_transform(X_train)\n",
    "# transformar o conjunto de teste\n",
    "X_test_bow = bow_vectorizer.transform(X_test)"
   ]
  },
  {
   "cell_type": "markdown",
   "id": "440b4833-d0e6-4637-998a-700bd3009d78",
   "metadata": {},
   "source": [
    "# 6. Treinando ambos modelos\n",
    "Aqui usaremos Regressão Logistica para treinar o classificador"
   ]
  },
  {
   "cell_type": "code",
   "execution_count": 93,
   "id": "854fbc96-0381-4170-a787-7acb30bdfd1b",
   "metadata": {},
   "outputs": [],
   "source": [
    "model = LogisticRegression()\n",
    "model_bow = model.fit(X_train_bow, y_train)\n",
    "model_tfdif = model.fit(X_train_tfidf, y_train)"
   ]
  },
  {
   "cell_type": "markdown",
   "id": "8f548b48-de1c-4954-8f21-d0d8b5725cd5",
   "metadata": {},
   "source": [
    "# 7 - Vizualização das métricas"
   ]
  },
  {
   "cell_type": "markdown",
   "id": "8d10c0be-c877-4783-804e-b04f71a66ab9",
   "metadata": {},
   "source": [
    "Metricas do BoW:"
   ]
  },
  {
   "cell_type": "code",
   "execution_count": 94,
   "id": "31461bac-a883-4b06-89d4-1483837dcfd3",
   "metadata": {},
   "outputs": [
    {
     "name": "stdout",
     "output_type": "stream",
     "text": [
      "Relatório de Classificação:\n",
      "              precision    recall  f1-score   support\n",
      "\n",
      "    negativo       0.75      0.81      0.78    159435\n",
      "    positivo       0.79      0.73      0.76    160228\n",
      "\n",
      "    accuracy                           0.77    319663\n",
      "   macro avg       0.77      0.77      0.77    319663\n",
      "weighted avg       0.77      0.77      0.77    319663\n",
      "\n",
      "Matriz de Confusão:\n",
      "[[128573  30862]\n",
      " [ 42711 117517]]\n",
      "Acurácia: 0.770\n"
     ]
    }
   ],
   "source": [
    "# Fazer previsões no conjunto de teste\n",
    "y_pred_bow = model_bow.predict(X_test_bow)\n",
    "\n",
    "# Exibir relatório de classificação\n",
    "print(\"Relatório de Classificação:\")\n",
    "print(classification_report(y_test, y_pred_bow))\n",
    "\n",
    "# Exibir a matriz de confusão\n",
    "print(\"Matriz de Confusão:\")\n",
    "print(confusion_matrix(y_test, y_pred_bow))\n",
    "\n",
    "# Exibir a acurácia geral\n",
    "print(f\"Acurácia: {accuracy_score(y_test, y_pred_bow):.3f}\")"
   ]
  },
  {
   "cell_type": "markdown",
   "id": "65ed4c94-ce56-475e-bcb0-90ab6928bf86",
   "metadata": {},
   "source": [
    "Metricas do TF-DIF:"
   ]
  },
  {
   "cell_type": "code",
   "execution_count": 95,
   "id": "f4b26a25-b356-4bd3-9e16-be5f9a14100c",
   "metadata": {},
   "outputs": [
    {
     "name": "stdout",
     "output_type": "stream",
     "text": [
      "Relatório de Classificação:\n",
      "              precision    recall  f1-score   support\n",
      "\n",
      "    negativo       0.79      0.75      0.77    159435\n",
      "    positivo       0.76      0.80      0.78    160228\n",
      "\n",
      "    accuracy                           0.77    319663\n",
      "   macro avg       0.78      0.77      0.77    319663\n",
      "weighted avg       0.78      0.77      0.77    319663\n",
      "\n",
      "Matriz de Confusão:\n",
      "[[120046  39389]\n",
      " [ 32608 127620]]\n",
      "Acurácia: 0.775\n"
     ]
    }
   ],
   "source": [
    "# Fazer previsões no conjunto de teste\n",
    "y_pred_tfdif = model_bow.predict(X_test_tfidf)\n",
    "\n",
    "# Exibir relatório de classificação\n",
    "print(\"Relatório de Classificação:\")\n",
    "print(classification_report(y_test, y_pred_tfdif))\n",
    "\n",
    "# Exibir a matriz de confusão\n",
    "print(\"Matriz de Confusão:\")\n",
    "print(confusion_matrix(y_test, y_pred_tfdif))\n",
    "\n",
    "# Exibir a acurácia geral\n",
    "print(f\"Acurácia: {accuracy_score(y_test, y_pred_tfdif):.3f}\")"
   ]
  },
  {
   "cell_type": "markdown",
   "id": "420aa9d0-16ad-4b88-9e4a-138068d2259f",
   "metadata": {},
   "source": [
    "Aqui iremos por fim gerar a matriz de confusão para cada um dos modelos:"
   ]
  },
  {
   "cell_type": "code",
   "execution_count": 97,
   "id": "f59ebc6b-7e9e-4a56-8835-28b3d5ce14a0",
   "metadata": {},
   "outputs": [
    {
     "data": {
      "image/png": "[encoded data removed]",
      "text/plain": [
       "<Figure size 640x480 with 2 Axes>"
      ]
     },
     "metadata": {},
     "output_type": "display_data"
    }
   ],
   "source": [
    "# Criar matriz de confusão\n",
    "conf_matrix = confusion_matrix(y_test, y_pred_bow)\n",
    "\n",
    "# Plotar usando Seaborn\n",
    "sns.heatmap(conf_matrix, annot=True, fmt=\"d\", cmap=\"Blues\", xticklabels=[\"Negative\", \"Neutral\", \"\"], yticklabels=[\"Negativo\", \"Positivo\"])\n",
    "plt.xlabel(\"Predito\")\n",
    "plt.ylabel(\"Verdadeiro\")\n",
    "plt.title(\"Matriz de Confusão\")\n",
    "plt.show()"
   ]
  },
  {
   "cell_type": "markdown",
   "id": "f96e975d-cbd0-4fcb-b4ba-d7856c8730a4",
   "metadata": {},
   "source": [
    "Testando novas Predições"
   ]
  },
  {
   "cell_type": "code",
   "execution_count": 45,
   "id": "c6c18247-762f-4b6e-ae0b-4d526a66f95e",
   "metadata": {},
   "outputs": [],
   "source": [
    "def test_prediction(txt):\n",
    "    vectorized_txt = tfidf_vectorizer.transform([txt])\n",
    "    pred = model.predict(vectorized_txt)\n",
    "    print(pred)"
   ]
  },
  {
   "cell_type": "code",
   "execution_count": 50,
   "id": "35e30bb4-9cbe-4d19-9f6d-618deeb65795",
   "metadata": {},
   "outputs": [
    {
     "name": "stdout",
     "output_type": "stream",
     "text": [
      "['negativo']\n"
     ]
    }
   ],
   "source": [
    "test_prediction(\"i really hate this new brand outfit\")"
   ]
  },
  {
   "cell_type": "code",
   "execution_count": 53,
   "id": "661ee621-6683-4239-b8e0-5f651bec8a9c",
   "metadata": {},
   "outputs": [
    {
     "name": "stdout",
     "output_type": "stream",
     "text": [
      "['positivo']\n"
     ]
    }
   ],
   "source": [
    "test_prediction(\"i don't like the way that this gun works, looks really mediocry\")"
   ]
  }
 ],
 "metadata": {
  "kernelspec": {
   "display_name": "Python 3 (ipykernel)",
   "language": "python",
   "name": "python3"
  },
  "language_info": {
   "codemirror_mode": {
    "name": "ipython",
    "version": 3
   },
   "file_extension": ".py",
   "mimetype": "text/x-python",
   "name": "python",
   "nbconvert_exporter": "python",
   "pygments_lexer": "ipython3",
   "version": "3.10.16"
  }
 },
 "nbformat": 4,
 "nbformat_minor": 5
}
